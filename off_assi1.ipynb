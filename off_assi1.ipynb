{
 "cells": [
  {
   "cell_type": "markdown",
   "metadata": {},
   "source": [
    "# ASSIGNMENT NUMBER 1"
   ]
  },
  {
   "cell_type": "code",
   "execution_count": 1,
   "metadata": {},
   "outputs": [],
   "source": [
    "#SUBMITTED BY = 'UMM-E-HANI'\n",
    "#SUBMITTED TO = ' SIR MUHAMMAD ALI'\n"
   ]
  },
  {
   "cell_type": "code",
   "execution_count": 3,
   "metadata": {},
   "outputs": [
    {
     "name": "stdout",
     "output_type": "stream",
     "text": [
      "Twinkle, Twinkle, little star,\n",
      "\tHow I wonder what you are!\n",
      "\t\tUp above the world so high,\n",
      "\t\tLike a diamond in the sky,\n",
      "Twinkle, Twinkle, little star,\n",
      "\tHow I wonder what you are\n"
     ]
    }
   ],
   "source": [
    "#QUESTION NO 1:\n",
    "print (\"Twinkle, Twinkle, little star,\" '\\n' + \"\\t\" + \"How I wonder what you are!\" + '\\n' + \"\\t\" + \"\\t\" + \"Up above the world so high,\" + \"\\n\" + \"\\t\" + \"\\t\" + \"Like a diamond in the sky,\")\n",
    "print (\"Twinkle, Twinkle, little star,\" '\\n' + \"\\t\" + \"How I wonder what you are\")"
   ]
  },
  {
   "cell_type": "code",
   "execution_count": 8,
   "metadata": {},
   "outputs": [
    {
     "name": "stdout",
     "output_type": "stream",
     "text": [
      "3.7.3 (default, Mar 27 2019, 17:13:21) [MSC v.1915 64 bit (AMD64)]\n"
     ]
    }
   ],
   "source": [
    "#QUESTION NO 2:\n",
    "import platform;\n",
    "\n",
    "print(platform.sys.version)"
   ]
  },
  {
   "cell_type": "code",
   "execution_count": 10,
   "metadata": {},
   "outputs": [
    {
     "name": "stdout",
     "output_type": "stream",
     "text": [
      "CURRENT DATE & TIME: 2019-11-17 18:56:34.099588\n"
     ]
    }
   ],
   "source": [
    "#QUESTION NO 3:\n",
    "from datetime import datetime\n",
    "today = datetime.today()\n",
    "print(\"CURRENT DATE & TIME:\", today)"
   ]
  },
  {
   "cell_type": "code",
   "execution_count": 11,
   "metadata": {},
   "outputs": [
    {
     "name": "stdout",
     "output_type": "stream",
     "text": [
      "Enter the radius of your choice = 45\n",
      "Area of a Circle is =  6362.55\n"
     ]
    }
   ],
   "source": [
    "#QUESTION NO 4:\n",
    "radius = float(input(\"Enter the radius of your choice = \"))\n",
    "area = 3.142*radius**2\n",
    "print (\"Area of a Circle is = \" , area)"
   ]
  },
  {
   "cell_type": "code",
   "execution_count": 13,
   "metadata": {},
   "outputs": [
    {
     "name": "stdout",
     "output_type": "stream",
     "text": [
      "YOUR FIRST NAME IS : UMME\n",
      "YOUR LAST NAME IS : HANI\n",
      "HANI UMME\n"
     ]
    }
   ],
   "source": [
    "#QUESTION NO 5:\n",
    "f_name = input(\"YOUR FIRST NAME IS : \")\n",
    "l_name = input(\"YOUR LAST NAME IS : \")\n",
    "print (l_name  , f_name )"
   ]
  },
  {
   "cell_type": "code",
   "execution_count": 16,
   "metadata": {},
   "outputs": [
    {
     "name": "stdout",
     "output_type": "stream",
     "text": [
      "Enter first number : 90\n",
      "Enter second number : 90\n",
      "180\n"
     ]
    }
   ],
   "source": [
    "#QUESTION NO 6:\n",
    "f_num = int(input(\"Enter first number : \"))\n",
    "s_num = int(input(\"Enter second number : \"))\n",
    "add= f_num + s_num\n",
    "print(add)"
   ]
  },
  {
   "cell_type": "code",
   "execution_count": null,
   "metadata": {},
   "outputs": [],
   "source": []
  }
 ],
 "metadata": {
  "kernelspec": {
   "display_name": "Python 3",
   "language": "python",
   "name": "python3"
  },
  "language_info": {
   "codemirror_mode": {
    "name": "ipython",
    "version": 3
   },
   "file_extension": ".py",
   "mimetype": "text/x-python",
   "name": "python",
   "nbconvert_exporter": "python",
   "pygments_lexer": "ipython3",
   "version": "3.7.3"
  }
 },
 "nbformat": 4,
 "nbformat_minor": 2
}
