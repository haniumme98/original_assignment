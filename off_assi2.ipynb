{
 "cells": [
  {
   "cell_type": "markdown",
   "metadata": {},
   "source": [
    "# ASSIGNMENT NUMBER 2"
   ]
  },
  {
   "cell_type": "code",
   "execution_count": 1,
   "metadata": {},
   "outputs": [],
   "source": [
    "#SUBMITTED BY = 'UMM-E-HANI'\n",
    "#SUBMITTED TO = ' SIR MUHAMMAD ALI'\n"
   ]
  },
  {
   "cell_type": "code",
   "execution_count": 2,
   "metadata": {},
   "outputs": [
    {
     "name": "stdout",
     "output_type": "stream",
     "text": [
      "Enter marks of english: 80\n",
      "Enter marks of urdu: 89\n",
      "Enter marks of maths: 90\n",
      "Enter marks of islamiat: 78\n",
      "Enter marks of science: 90\n",
      "percentage is 85.4\n",
      "Grade: B\n"
     ]
    }
   ],
   "source": [
    "#QUESTION NO 1:\n",
    "sub1=input(\"Enter marks of english: \")\n",
    "sub2=input(\"Enter marks of urdu: \")\n",
    "sub3=input(\"Enter marks of maths: \")\n",
    "sub4=input(\"Enter marks of islamiat: \")\n",
    "sub5=input(\"Enter marks of science: \")\n",
    "sum=(int(sub1)+int(sub2)+int(sub3)+int(sub4)+int(sub5));\n",
    "total=500;\n",
    "per=(sum*100/total);\n",
    "print(\"percentage is\",per)\n",
    "if(per>=90):\n",
    "    print(\"Grade: A\")\n",
    "elif(per>=80 and per<90):\n",
    "    print(\"Grade: B\")\n",
    "elif(per>=70 and per<80):\n",
    "    print(\"Grade: C\")\n",
    "elif(per>=60 and per<70):\n",
    "    print(\"Grade: D\")\n",
    "else:\n",
    "    print(\"Grade: F\")"
   ]
  },
  {
   "cell_type": "code",
   "execution_count": 3,
   "metadata": {},
   "outputs": [
    {
     "name": "stdout",
     "output_type": "stream",
     "text": [
      "Enter any number of your choice: 10\n",
      "This is an even number.\n"
     ]
    }
   ],
   "source": [
    "#QUESTION NO 2:\n",
    "num = int(input(\"Enter any number of your choice: \"))\n",
    "x = num % 2\n",
    "if x > 0:\n",
    "    print(\"This is an odd number.\")\n",
    "else:\n",
    "    print(\"This is an even number.\")"
   ]
  },
  {
   "cell_type": "code",
   "execution_count": 5,
   "metadata": {},
   "outputs": [
    {
     "name": "stdout",
     "output_type": "stream",
     "text": [
      "the length of list is : 14\n"
     ]
    }
   ],
   "source": [
    "#QUESTION NO 3:\n",
    "num=len([1,2,3,4,5,6,7,9,10,11,12,13,14,15])\n",
    "print(\"the length of list is :\",num)"
   ]
  },
  {
   "cell_type": "code",
   "execution_count": 8,
   "metadata": {},
   "outputs": [
    {
     "name": "stdout",
     "output_type": "stream",
     "text": [
      "Sum of all given elements in the list:  292\n"
     ]
    }
   ],
   "source": [
    "#QUESTION NO 4:\n",
    "tot = 0\n",
    "l_1 = [19, 15, 27, 18, 23, 50, 40, 100,]  \n",
    "for element in range(0, len(l_1)): \n",
    "    tot = tot + l_1[element]  \n",
    "print(\"Sum of all given elements in the list: \", tot)"
   ]
  },
  {
   "cell_type": "code",
   "execution_count": 9,
   "metadata": {},
   "outputs": [
    {
     "name": "stdout",
     "output_type": "stream",
     "text": [
      "Largest element in the given data is : 220\n"
     ]
    }
   ],
   "source": [
    "#QUESTION NO 5:\n",
    "data = [150, 29, 82, 220, 77,100] \n",
    "print(\"Largest element in the given data is :\", max(data))"
   ]
  },
  {
   "cell_type": "code",
   "execution_count": 12,
   "metadata": {},
   "outputs": [
    {
     "name": "stdout",
     "output_type": "stream",
     "text": [
      "-3\n",
      "-2\n",
      "-1\n",
      "0\n",
      "1\n",
      "2\n",
      "3\n",
      "4\n"
     ]
    }
   ],
   "source": [
    "#QUESTION NO 6:\n",
    "abc = [-3,-2,-1,0,1,2,3,4,5,8,13,21,34,55,89]\n",
    "\n",
    "for x in abc:\n",
    "    if x < 5:\n",
    "        print(x)"
   ]
  },
  {
   "cell_type": "code",
   "execution_count": null,
   "metadata": {},
   "outputs": [],
   "source": []
  },
  {
   "cell_type": "code",
   "execution_count": null,
   "metadata": {},
   "outputs": [],
   "source": []
  }
 ],
 "metadata": {
  "kernelspec": {
   "display_name": "Python 3",
   "language": "python",
   "name": "python3"
  },
  "language_info": {
   "codemirror_mode": {
    "name": "ipython",
    "version": 3
   },
   "file_extension": ".py",
   "mimetype": "text/x-python",
   "name": "python",
   "nbconvert_exporter": "python",
   "pygments_lexer": "ipython3",
   "version": "3.7.3"
  }
 },
 "nbformat": 4,
 "nbformat_minor": 2
}
