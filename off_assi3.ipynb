{
 "cells": [
  {
   "cell_type": "markdown",
   "metadata": {},
   "source": [
    "# ASSIGNMENT NUMBER 3"
   ]
  },
  {
   "cell_type": "code",
   "execution_count": 1,
   "metadata": {},
   "outputs": [],
   "source": [
    "#SUBMITTED BY = 'UMM-E-HANI'\n",
    "#SUBMITTED TO = ' SIR MUHAMMAD ALI'\n"
   ]
  },
  {
   "cell_type": "code",
   "execution_count": 2,
   "metadata": {},
   "outputs": [
    {
     "name": "stdout",
     "output_type": "stream",
     "text": [
      "Enter first value: 10\n",
      "Enter second value: 20\n",
      "Enter 1 for addition :\n",
      "Enter 2 for subtraction :\n",
      "Enter 3 for multiplication :\n",
      "Enter 4 for division :\n",
      "Enter 5 for power: \n",
      "Enter a number of operation to be performed: 3\n",
      "\n",
      "Answer : 200\n"
     ]
    }
   ],
   "source": [
    "#QUESTION NO 1:\n",
    "ans = None\n",
    "a = int(input(\"Enter first value: \"))\n",
    "b = int(input(\"Enter second value: \"))\n",
    "\n",
    "print(\"Enter 1 for addition :\")\n",
    "print(\"Enter 2 for subtraction :\")\n",
    "print(\"Enter 3 for multiplication :\")\n",
    "print(\"Enter 4 for division :\")\n",
    "print(\"Enter 5 for power: \")\n",
    "c= int(input(\"Enter a number of operation to be performed: \"))\n",
    "\n",
    "if c == 1:\n",
    "    ans = a+b\n",
    "elif c == 2:\n",
    "    ans = a-b\n",
    "elif c == 3:\n",
    "    ans = a*b\n",
    "elif c == 4:\n",
    "    ans = a/b\n",
    "elif c == 5:\n",
    "    ans = a**b\n",
    "    \n",
    "print(f\"\\nAnswer : {ans}\")"
   ]
  },
  {
   "cell_type": "code",
   "execution_count": 9,
   "metadata": {},
   "outputs": [
    {
     "name": "stdout",
     "output_type": "stream",
     "text": [
      " we found this Numeric value in list  : 6\n"
     ]
    }
   ],
   "source": [
    "#QUESTION NO 2:\n",
    "list_1 = [\"hani\", \"a\",\"b\",  \"3\", 6,\"Hello\"]\n",
    "for value in list_1:\n",
    "    if type(value) == int or type(value) == float:\n",
    "        print(f\" we found this Numeric value in list  : {value}\")\n",
    "        "
   ]
  },
  {
   "cell_type": "code",
   "execution_count": 19,
   "metadata": {},
   "outputs": [
    {
     "name": "stdout",
     "output_type": "stream",
     "text": [
      "{10: 20, 40: 80}\n",
      "{10: 20, 40: 80, 50: 100}\n"
     ]
    }
   ],
   "source": [
    "#QUESTION NO 3:\n",
    "d = {10:20, 40:80}  \n",
    "print(d)  \n",
    "d.update({50:100})  \n",
    "print(d)"
   ]
  },
  {
   "cell_type": "code",
   "execution_count": 16,
   "metadata": {},
   "outputs": [
    {
     "name": "stdout",
     "output_type": "stream",
     "text": [
      "Sum = 500\n"
     ]
    }
   ],
   "source": [
    "#QUESTION NO 4:\n",
    "result=0\n",
    "dic = {    1: 100 ,\n",
    "           2: \"umme hani\", \n",
    "           3: 100, \n",
    "           4:\"numeric\",\n",
    "           5: 300\n",
    "      }\n",
    "\n",
    "for value in dic.values():\n",
    "    if type(value) == int or type(value) == float:\n",
    "        result = result + value        \n",
    "        \n",
    "print(f\"Sum = {result}\")"
   ]
  },
  {
   "cell_type": "code",
   "execution_count": 25,
   "metadata": {},
   "outputs": [
    {
     "name": "stdout",
     "output_type": "stream",
     "text": [
      "[1, 2, 3, 4, 10, 20, 5, 6]\n"
     ]
    }
   ],
   "source": [
    "#QUESTION NO 5:\n",
    "def Remove(dup): \n",
    "    f_list = [] \n",
    "    for num in dup: \n",
    "        if num not in f_list: \n",
    "            f_list.append(num) \n",
    "    return f_list \n",
    "      \n",
    "\n",
    "dup = [1,2,3,4,10,20,5,2,3,20,4,5,2,4,5,6,] \n",
    "print(Remove(dup))"
   ]
  },
  {
   "cell_type": "code",
   "execution_count": 31,
   "metadata": {},
   "outputs": [
    {
     "name": "stdout",
     "output_type": "stream",
     "text": [
      "Key is present \n",
      "Key is present \n"
     ]
    }
   ],
   "source": [
    "#QUESTION NO 6:\n",
    "d = {1:2, 2:10, 3:30, 4:40, 5:70, 6:80}\n",
    "def present(x):\n",
    "  if x in d:\n",
    "      print('Key is present ')\n",
    "  else:\n",
    "      print('Key is not present')\n",
    "present(1)\n",
    "present(3)"
   ]
  },
  {
   "cell_type": "code",
   "execution_count": null,
   "metadata": {},
   "outputs": [],
   "source": []
  }
 ],
 "metadata": {
  "kernelspec": {
   "display_name": "Python 3",
   "language": "python",
   "name": "python3"
  },
  "language_info": {
   "codemirror_mode": {
    "name": "ipython",
    "version": 3
   },
   "file_extension": ".py",
   "mimetype": "text/x-python",
   "name": "python",
   "nbconvert_exporter": "python",
   "pygments_lexer": "ipython3",
   "version": "3.7.3"
  }
 },
 "nbformat": 4,
 "nbformat_minor": 2
}
